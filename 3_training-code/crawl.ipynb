{
 "cells": [
  {
   "cell_type": "code",
   "execution_count": 1,
   "id": "initial_id",
   "metadata": {
    "collapsed": true,
    "ExecuteTime": {
     "end_time": "2024-03-12T06:11:27.984444Z",
     "start_time": "2024-03-12T06:11:27.600400Z"
    }
   },
   "outputs": [],
   "source": [
    "from selenium import webdriver\n",
    "import os\n",
    "import base64\n",
    "import requests\n",
    "\n",
    "from bs4 import BeautifulSoup\n",
    "from urllib.parse import urlparse"
   ]
  },
  {
   "cell_type": "code",
   "outputs": [],
   "source": [
    "driver = webdriver.Edge()\n",
    "\n",
    "driver.get(\"https://www.pinterest.com/abbyfpratt/dogs/\")\n"
   ],
   "metadata": {
    "collapsed": false,
    "ExecuteTime": {
     "end_time": "2024-03-12T06:11:38.380524Z",
     "start_time": "2024-03-12T06:11:27.986453Z"
    }
   },
   "id": "f9a011f9ad9a496e",
   "execution_count": 2
  },
  {
   "cell_type": "code",
   "outputs": [
    {
     "name": "stdout",
     "output_type": "stream",
     "text": [
      "Số lượng phần tử hình ảnh: 17\n"
     ]
    }
   ],
   "source": [
    "# Mở URL của trang web cần tìm các phần tử hình ảnh\n",
    "\n",
    "image_elements = driver.find_elements('tag name', 'img')\n",
    "\n",
    "# Hiển thị số lượng phần tử hình ảnh đã tìm thấy\n",
    "print(\"Số lượng phần tử hình ảnh:\", len(image_elements))\n"
   ],
   "metadata": {
    "collapsed": false,
    "ExecuteTime": {
     "end_time": "2024-03-08T09:30:53.169328Z",
     "start_time": "2024-03-08T09:30:53.152126Z"
    }
   },
   "id": "33e1b6133aca3370",
   "execution_count": 76
  },
  {
   "cell_type": "code",
   "outputs": [
    {
     "name": "stdout",
     "output_type": "stream",
     "text": [
      "Đã lưu hình ảnh vào thư mục: dataset/dogs\n"
     ]
    }
   ],
   "source": [
    "# Đường dẫn đến thư mục label\n",
    "label_dir = \"dataset/dogs\"\n",
    "\n",
    "# Kiểm tra xem thư mục tồn tại không\n",
    "if os.path.exists(label_dir):\n",
    "    # Lấy danh sách tất cả các tệp trong thư mục\n",
    "    existing_files = os.listdir(label_dir)\n",
    "    # Lấy số tệp đã tồn tại trong thư mục\n",
    "    num_existing_files = len(existing_files)\n",
    "else:\n",
    "    # Nếu thư mục không tồn tại, số tệp tồn tại là 0\n",
    "    num_existing_files = 0\n",
    "\n",
    "# Lặp qua từng phần tử hình ảnh\n",
    "for index, img in enumerate(image_elements):\n",
    "    # Lấy URL của hình ảnh\n",
    "    image_url = img.get_attribute('src')\n",
    "    # Tạo tên tệp hợp lệ từ URL\n",
    "    image_extension = os.path.splitext(urlparse(image_url).path)[-1]  # Lấy phần mở rộng của tệp\n",
    "    # Tên tệp là số thứ tự tăng dần tiếp theo sau số tệp đã tồn tại trong thư mục\n",
    "    image_name = f\"{num_existing_files + index + 1}{image_extension}\"\n",
    "    # Tải hình ảnh về thư mục label\n",
    "    image_path = os.path.join(label_dir, image_name)\n",
    "    with open(image_path, 'wb') as f:\n",
    "        f.write(requests.get(image_url).content)\n",
    "\n",
    "print(\"Đã lưu hình ảnh vào thư mục:\", label_dir)\n"
   ],
   "metadata": {
    "collapsed": false,
    "ExecuteTime": {
     "end_time": "2024-03-08T09:34:02.061246Z",
     "start_time": "2024-03-08T09:33:52.630616Z"
    }
   },
   "id": "90bc9a2f362bba4b",
   "execution_count": 79
  },
  {
   "cell_type": "code",
   "outputs": [],
   "source": [],
   "metadata": {
    "collapsed": false
   },
   "id": "576bbda042eb353f"
  }
 ],
 "metadata": {
  "kernelspec": {
   "display_name": "Python 3",
   "language": "python",
   "name": "python3"
  },
  "language_info": {
   "codemirror_mode": {
    "name": "ipython",
    "version": 2
   },
   "file_extension": ".py",
   "mimetype": "text/x-python",
   "name": "python",
   "nbconvert_exporter": "python",
   "pygments_lexer": "ipython2",
   "version": "2.7.6"
  }
 },
 "nbformat": 4,
 "nbformat_minor": 5
}
