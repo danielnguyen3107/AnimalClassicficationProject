{
 "cells": [
  {
   "cell_type": "code",
   "execution_count": 1,
   "id": "initial_id",
   "metadata": {
    "collapsed": true,
    "ExecuteTime": {
     "end_time": "2024-03-10T11:17:09.383049Z",
     "start_time": "2024-03-10T11:17:09.376078Z"
    }
   },
   "outputs": [],
   "source": [
    "import os\n",
    "import shutil\n",
    "import random"
   ]
  },
  {
   "cell_type": "code",
   "outputs": [],
   "source": [
    "# Đường dẫn đến thư mục chứa dữ liệu đã resize\n",
    "resized_folder = \"./resized_256x256\"\n",
    "\n",
    "# Đường dẫn đến thư mục chứa dữ liệu đã chia nhỏ\n",
    "resized_split_folder = \"./dataset_resized_split\""
   ],
   "metadata": {
    "collapsed": false,
    "ExecuteTime": {
     "end_time": "2024-03-10T11:17:14.771678Z",
     "start_time": "2024-03-10T11:17:14.767158Z"
    }
   },
   "id": "5401761779f7d99",
   "execution_count": 2
  },
  {
   "cell_type": "code",
   "outputs": [
    {
     "name": "stdout",
     "output_type": "stream",
     "text": [
      "Dataset splitted into train and test folders.\n"
     ]
    }
   ],
   "source": [
    "# Tạo thư mục resized-split nếu nó chưa tồn tại\n",
    "os.makedirs(resized_split_folder, exist_ok=True)\n",
    "\n",
    "# Tạo thư mục train và test trong thư mục resized-split\n",
    "train_folder = os.path.join(resized_split_folder, \"train\")\n",
    "test_folder = os.path.join(resized_split_folder, \"test\")\n",
    "os.makedirs(train_folder, exist_ok=True)\n",
    "os.makedirs(test_folder, exist_ok=True)\n",
    "\n",
    "# Tạo các thư mục dogs, cats, parrots trong thư mục train và test\n",
    "categories = [\"dogs\", \"cats\", \"parrots\"]\n",
    "for category in categories:\n",
    "    os.makedirs(os.path.join(train_folder, category), exist_ok=True)\n",
    "    os.makedirs(os.path.join(test_folder, category), exist_ok=True)\n",
    "\n",
    "# Duyệt qua các thư mục con trong resized folder và chia dữ liệu\n",
    "for category in categories:\n",
    "    category_folder = os.path.join(resized_folder, category)\n",
    "    images = os.listdir(category_folder)\n",
    "    random.shuffle(images)  # Xáo trộn thứ tự của ảnh\n",
    "\n",
    "    # Tính toán số lượng ảnh cho tập train và test\n",
    "    num_train = int(len(images) * 0.8)\n",
    "    train_images = images[:num_train]\n",
    "    test_images = images[num_train:]\n",
    "\n",
    "    # Di chuyển các ảnh vào các thư mục train và test tương ứng\n",
    "    for img in train_images:\n",
    "        src_path = os.path.join(category_folder, img)\n",
    "        dest_path = os.path.join(train_folder, category, img)\n",
    "        shutil.copy(src_path, dest_path)\n",
    "\n",
    "    for img in test_images:\n",
    "        src_path = os.path.join(category_folder, img)\n",
    "        dest_path = os.path.join(test_folder, category, img)\n",
    "        shutil.copy(src_path, dest_path)\n",
    "\n",
    "print(\"Dataset splitted into train and test folders.\")"
   ],
   "metadata": {
    "collapsed": false,
    "ExecuteTime": {
     "end_time": "2024-03-10T11:25:46.636882Z",
     "start_time": "2024-03-10T11:25:44.781770Z"
    }
   },
   "id": "11f6029980a31244",
   "execution_count": 5
  }
 ],
 "metadata": {
  "kernelspec": {
   "display_name": "Python 3",
   "language": "python",
   "name": "python3"
  },
  "language_info": {
   "codemirror_mode": {
    "name": "ipython",
    "version": 2
   },
   "file_extension": ".py",
   "mimetype": "text/x-python",
   "name": "python",
   "nbconvert_exporter": "python",
   "pygments_lexer": "ipython2",
   "version": "2.7.6"
  }
 },
 "nbformat": 4,
 "nbformat_minor": 5
}
