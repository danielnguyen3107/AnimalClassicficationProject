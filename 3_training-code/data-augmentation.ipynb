{
 "cells": [
  {
   "cell_type": "code",
   "execution_count": 23,
   "id": "initial_id",
   "metadata": {
    "collapsed": true,
    "ExecuteTime": {
     "end_time": "2024-03-10T11:28:34.688294Z",
     "start_time": "2024-03-10T11:28:34.669289Z"
    }
   },
   "outputs": [],
   "source": [
    "import scipy\n",
    "from keras.preprocessing.image import ImageDataGenerator\n",
    "from cv2 import imread\n",
    "import os\n",
    "import numpy as np"
   ]
  },
  {
   "cell_type": "code",
   "outputs": [],
   "source": [
    "datagen = ImageDataGenerator(\n",
    "        rotation_range=40,\n",
    "        width_shift_range=0.2,\n",
    "        height_shift_range=0.2,\n",
    "        shear_range=0.2,\n",
    "        zoom_range=0.2,\n",
    "        horizontal_flip=True,\n",
    "        fill_mode='nearest')"
   ],
   "metadata": {
    "collapsed": false,
    "ExecuteTime": {
     "end_time": "2024-03-10T11:28:36.458028Z",
     "start_time": "2024-03-10T11:28:36.422339Z"
    }
   },
   "id": "253577f9d1352cc8",
   "execution_count": 24
  },
  {
   "cell_type": "code",
   "outputs": [],
   "source": [
    "# Tạo thư mục 'augmented' nếu nó chưa tồn tại\n",
    "os.makedirs('augmented_train', exist_ok=True)\n",
    "\n",
    "labels = [\"dogs\", \"cats\", \"parrots\"]\n",
    "prefix = \"./dataset_resized_split/train/\"\n",
    "for label in labels:\n",
    "    dir = \"augmented_train/\" + label\n",
    "    # Tạo thư mục cho mỗi nhãn nếu nó chưa tồn tại\n",
    "    os.makedirs(dir, exist_ok=True)\n",
    "    img_dir = prefix + label\n",
    "    img_names = os.listdir(img_dir)\n",
    "    X = []\n",
    "    for img_name in img_names:\n",
    "        img_path = img_dir + '/' + img_name\n",
    "        image = imread(img_path)\n",
    "        X.append(image)\n",
    "    X = np.asarray(X)\n",
    "    i = 0\n",
    "    for batch in datagen.flow(X, batch_size=X.size,\n",
    "                              save_to_dir=dir, save_prefix=label, save_format='jpg'):\n",
    "        i += 1\n",
    "        if i == 2:\n",
    "            break\n",
    "        "
   ],
   "metadata": {
    "collapsed": false,
    "ExecuteTime": {
     "end_time": "2024-03-10T11:29:42.781523Z",
     "start_time": "2024-03-10T11:28:42.100136Z"
    }
   },
   "id": "1690c5aa85dff06e",
   "execution_count": 25
  }
 ],
 "metadata": {
  "kernelspec": {
   "display_name": "Python 3",
   "language": "python",
   "name": "python3"
  },
  "language_info": {
   "codemirror_mode": {
    "name": "ipython",
    "version": 2
   },
   "file_extension": ".py",
   "mimetype": "text/x-python",
   "name": "python",
   "nbconvert_exporter": "python",
   "pygments_lexer": "ipython2",
   "version": "2.7.6"
  }
 },
 "nbformat": 4,
 "nbformat_minor": 5
}
