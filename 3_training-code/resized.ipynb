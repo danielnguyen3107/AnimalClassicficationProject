{
 "cells": [
  {
   "cell_type": "code",
   "execution_count": 3,
   "id": "initial_id",
   "metadata": {
    "collapsed": true,
    "ExecuteTime": {
     "end_time": "2024-03-10T11:16:16.128613Z",
     "start_time": "2024-03-10T11:16:15.828735Z"
    }
   },
   "outputs": [],
   "source": [
    "import os\n",
    "import cv2"
   ]
  },
  {
   "cell_type": "code",
   "outputs": [],
   "source": [
    "prefix = 'dataset/'\n",
    "resized_256x256_prefix = 'resized_256x256/'\n",
    "\n",
    "dirs = ['dogs', 'cats', 'parrots']"
   ],
   "metadata": {
    "collapsed": false,
    "ExecuteTime": {
     "end_time": "2024-03-10T11:16:17.125713Z",
     "start_time": "2024-03-10T11:16:17.120667Z"
    }
   },
   "id": "83f164b5876c3158",
   "execution_count": 4
  },
  {
   "cell_type": "code",
   "outputs": [],
   "source": [
    "if not os.path.exists(resized_256x256_prefix):\n",
    "    os.makedirs(resized_256x256_prefix)\n",
    "\n",
    "for d in dirs:\n",
    "    if not os.path.exists(resized_256x256_prefix + d):\n",
    "        os.makedirs(resized_256x256_prefix + d)\n",
    "        \n",
    "    files_name = os.listdir(prefix + d)\n",
    "    \n",
    "    for index, file_name in enumerate(files_name):\n",
    "        img = cv2.imread(prefix + d + '/' + file_name)\n",
    "        \n",
    "        img_cropped_28x28 = cv2.resize(img, (256, 256))\n",
    "        cv2.imwrite(resized_256x256_prefix + d + '/' + f'{index}.jpg', img_cropped_28x28)"
   ],
   "metadata": {
    "collapsed": false,
    "ExecuteTime": {
     "end_time": "2024-03-10T11:24:50.153176Z",
     "start_time": "2024-03-10T11:24:27.572525Z"
    }
   },
   "id": "f17dc50c556d5f2f",
   "execution_count": 6
  }
 ],
 "metadata": {
  "kernelspec": {
   "display_name": "Python 3",
   "language": "python",
   "name": "python3"
  },
  "language_info": {
   "codemirror_mode": {
    "name": "ipython",
    "version": 2
   },
   "file_extension": ".py",
   "mimetype": "text/x-python",
   "name": "python",
   "nbconvert_exporter": "python",
   "pygments_lexer": "ipython2",
   "version": "2.7.6"
  }
 },
 "nbformat": 4,
 "nbformat_minor": 5
}
